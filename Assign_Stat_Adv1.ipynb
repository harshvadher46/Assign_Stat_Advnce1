{
 "cells": [
  {
   "cell_type": "code",
   "execution_count": null,
   "id": "77824434-f632-4288-bd50-ad6158118774",
   "metadata": {},
   "outputs": [],
   "source": [
    "#Q1 What is the Probability density function?\"\n",
    "    '''Ans--> The Probability Density Function (PDF) is a concept in probability theory and statistics that describes the likelihood of a\n",
    "    continuous random variable taking on a specific value.\n",
    "    -- the PDF is denoted by f(x)'''"
   ]
  },
  {
   "cell_type": "code",
   "execution_count": null,
   "id": "a949e53f-6c15-491e-addf-1399eee25241",
   "metadata": {},
   "outputs": [],
   "source": [
    "# Q2. What are the types of Probability distribution?\n",
    "    '''\n",
    "    Ans ---> The two main categories are discrete probability distributions and continuous probability distributions.\n",
    "       Discrete Probability Distributions:\n",
    "    Bernoulli Distribution: Describes a single trial with two possible outcomes, typically labeled as success and failure.\n",
    "    Binomial Distribution: Represents the number of successes in a fixed number of independent Bernoulli trials.\n",
    "    Poisson Distribution: Models the number of events occurring in a fixed interval of time or space, given a known average rate.\n",
    "    \n",
    "       Continuous Probability Distributions:\n",
    "    Normal Distribution (Gaussian Distribution): Characterized by a symmetric bell-shaped curve. Many natural phenomena follow this distribution.\n",
    "    Uniform Distribution: All outcomes in the sample space are equally likely to occur.\n",
    "    Exponential Distribution: Describes the time between events in a Poisson process, where events occur continuously and independently at a constant average rate.'''\n"
   ]
  },
  {
   "cell_type": "code",
   "execution_count": 4,
   "id": "44d9e28d-1069-4a70-88c4-3e4c4c803de4",
   "metadata": {},
   "outputs": [
    {
     "ename": "IndentationError",
     "evalue": "unexpected indent (3230495729.py, line 5)",
     "output_type": "error",
     "traceback": [
      "\u001b[0;36m  Cell \u001b[0;32mIn[4], line 5\u001b[0;36m\u001b[0m\n\u001b[0;31m    import numpy as np\u001b[0m\n\u001b[0m    ^\u001b[0m\n\u001b[0;31mIndentationError\u001b[0m\u001b[0;31m:\u001b[0m unexpected indent\n"
     ]
    }
   ],
   "source": [
    "'''Q3. Write a Python function to calculate the probability density function of a normal distribution with\n",
    "    \"given mean and standard deviation at a given point.'''\n",
    "    \n",
    "    # Ans--> \n",
    "    import numpy as np\n",
    "    def normal_pdf(x,mu,sigma):\n",
    "       #  x: The point at which to evaluate the PDF.\n",
    "       # mu: The mean of the distribution.\n",
    "       # sigma: The standard deviation of the distribution.\n",
    "    return(1/(np.sqrt(2*np.pi)*sigma))* np.exp(-0.5 * ((x - mu) / sigma)**2)\n",
    "    mean=2\n",
    "    std_dev=3\n",
    "    x=3\n",
    "    \n",
    "    pdf_value=normal_pdf(mean,x,std_dev)\n",
    "    print(f\"The PDF of the normal distribution at x = {x} is: {pdf_value:.4f}\")\n"
   ]
  },
  {
   "cell_type": "code",
   "execution_count": null,
   "id": "dc705e9a-5bd8-4adb-ba2e-efba78c3046c",
   "metadata": {},
   "outputs": [],
   "source": [
    "# Q4. What are the properties of Binomial distribution? Give two examples of events where binomial distribution can be applied.\n",
    "'''The Binomial distribution is a discrete probability distribution that describes the number of successes in a fixed number of independent Bernoulli trials, where each trial has only two possible outcomes (success or failure). The key properties of the Binomial distribution are:\n",
    "\n",
    "-->Number of Trials (n): The distribution is based on a fixed number of trials, denoted by 'n'.\n",
    "-->Two Possible Outcomes: Each trial has only two possible outcomes, usually labeled as success (S) and failure (F).\n",
    "-->Independence: The trials are assumed to be independent of each other.\n",
    "-->Probability of Success (p): The probability of success on any given trial is denoted by 'p'.\n",
    "\n",
    "Examples of events where binomial distribution can be applied:\n",
    "\n",
    "Coin Tossing:\n",
    "Flipping a fair coin 10 times and counting the number of heads follows a binomial distribution with n = 10 and p = 0.5 (probability of getting a head).\n",
    "You can calculate the probability of getting exactly 5 heads, 3 heads, or any other number of heads in those 10 flips.\n",
    "\n",
    "Survey Responses:\n",
    "Asking 20 randomly selected people whether they support a particular policy and finding the likelihood of getting exactly 15 who support it.\n",
    "Here, n = 20 (number of people surveyed) and p would be the probability of a randomly selected person supporting the policy.\n",
    "'''"
   ]
  },
  {
   "cell_type": "code",
   "execution_count": 2,
   "id": "20c5e680-4e33-4cb2-b40b-873ffa872818",
   "metadata": {},
   "outputs": [
    {
     "ename": "IndentationError",
     "evalue": "unexpected indent (2563954224.py, line 3)",
     "output_type": "error",
     "traceback": [
      "\u001b[0;36m  Cell \u001b[0;32mIn[2], line 3\u001b[0;36m\u001b[0m\n\u001b[0;31m    import matplotlib.pyplot as plt\u001b[0m\n\u001b[0m    ^\u001b[0m\n\u001b[0;31mIndentationError\u001b[0m\u001b[0;31m:\u001b[0m unexpected indent\n"
     ]
    }
   ],
   "source": [
    "'''Q5. Generate a random sample of size 1000 from a binomial distribution with probability of success 0.4\n",
    "    and plot a histogram of the results using matplotlib.'''\n",
    "    import matplotlib.pyplot as plt\n",
    "    import numpy as np\n",
    "    # Define parameters\n",
    "    n = 1000  # Number of trials\n",
    "    p = 0.4  # Probability of success\n",
    "    \n",
    "    # Generate random sample\n",
    "    sample = np.random.binomial(n, p, size=1000)\n",
    "    \n",
    "    # Plot histogram\n",
    "    plt.hist(sample, bins=20, edgecolor='black')\n",
    "    plt.xlabel('Number of successes')\n",
    "    plt.ylabel('Frequency')\n",
    "    plt.title('Histogram of Binomial Distribution Sample (n={}, p={})'.format(n, p))\n",
    "    plt.grid(True)\n",
    "    plt.show()\n"
   ]
  },
  {
   "cell_type": "code",
   "execution_count": 4,
   "id": "77d482d3-a05e-45fb-9175-9e0f9923a567",
   "metadata": {},
   "outputs": [
    {
     "ename": "IndentationError",
     "evalue": "unexpected indent (4026373250.py, line 3)",
     "output_type": "error",
     "traceback": [
      "\u001b[0;36m  Cell \u001b[0;32mIn[4], line 3\u001b[0;36m\u001b[0m\n\u001b[0;31m    import numpy as np\u001b[0m\n\u001b[0m    ^\u001b[0m\n\u001b[0;31mIndentationError\u001b[0m\u001b[0;31m:\u001b[0m unexpected indent\n"
     ]
    }
   ],
   "source": [
    "# Q6. Write a Python function to calculate the cumulative distribution function of a Poisson distribution with given mean at a given point.  \\n\",\n",
    "    \n",
    "    import numpy as np\n",
    "    def poisson_cdf(k, lam):\n",
    "        if k<0:\n",
    "            return 0\n",
    "        p = np.exp(-lam)\n",
    "        cdf = 1.0\n",
    "        for i in range(1, k + 1):\n",
    "            p *= lam / i\n",
    "            cdf += p\n",
    "        return cdf\n",
    "    \n",
    "    # Example usage\n",
    "    lam = 5.0\n",
    "    k = 3\n",
    "    \n",
    "    cdf_value = poisson_cdf(k, lam)\n",
    "    print(f\"The CDF of the Poisson distribution at k = {k} is: {cdf_value:.4f}\")\n"
   ]
  },
  {
   "cell_type": "code",
   "execution_count": null,
   "id": "091c1a39-afbb-4d42-8ead-d9b9c704cb8d",
   "metadata": {},
   "outputs": [],
   "source": [
    "# Q7. How Binomial distribution different from Poisson distribution?\\n\",\n",
    "    '''\n",
    "    \"Number of trials:\n",
    "    \"binomial-> Fixed \n",
    "    \"poisson -> Not Fixed\n",
    "    \n",
    "    \"Possible Outcomes:\n",
    "    \"Binomial: Only two possible outcomes, usually labeled success and failure.\n",
    "    \"Poisson: Countable number of non-negative outcomes (0, 1, 2, ...).\n",
    "    \n",
    "    \"Probability Calculation:\n",
    "    \"Binomial: You directly calculate the probability of getting a specific number of successes using the probability mass function (PMF) based on the number of trials (n) and success probability (p)\n",
    "    \"Poisson: You calculate the probability of getting a specific number of events using the Poisson PMF based on the mean (λ).'''\n"
   ]
  },
  {
   "cell_type": "code",
   "execution_count": 5,
   "id": "34e7ae57-ab49-4f8b-83e3-bbd61a108c75",
   "metadata": {},
   "outputs": [
    {
     "ename": "IndentationError",
     "evalue": "unexpected indent (2005457216.py, line 3)",
     "output_type": "error",
     "traceback": [
      "\u001b[0;36m  Cell \u001b[0;32mIn[5], line 3\u001b[0;36m\u001b[0m\n\u001b[0;31m    import numpy as np\u001b[0m\n\u001b[0m    ^\u001b[0m\n\u001b[0;31mIndentationError\u001b[0m\u001b[0;31m:\u001b[0m unexpected indent\n"
     ]
    }
   ],
   "source": [
    "'''Q8. Generate a random sample of size 1000 from a Poisson distribution with mean 5 and calculate the sample mean and variance.'''\n",
    "    \n",
    "    import numpy as np\n",
    "    # Set the parameters for the Poisson distribution\n",
    "    mean_value = 5\n",
    "    \n",
    "    # Generate a random sample of size 1000 from the Poisson distribution\n",
    "    random_sample = np.random.poisson(mean_value, size=1000)\n",
    "    \n",
    "    # Calculate the sample mean and variance\n",
    "    sample_mean = np.mean(random_sample)\n",
    "    sample_variance = np.var(random_sample)\n",
    "    \n",
    "    # Display the results\n",
    "    print(f\\\"Sample Mean: {sample_mean}\")\n",
    "    print(f\\\"Sample Variance: {sample_variance}\")\n"
   ]
  },
  {
   "cell_type": "code",
   "execution_count": null,
   "id": "52094b18-aa9b-4a23-b4f5-345f89182932",
   "metadata": {},
   "outputs": [],
   "source": [
    "# Q9. How mean and variance are related in Binomial distribution and Poisson distribution?\n",
    "    '''\n",
    "    Binomial Distribution:\n",
    "    Mean: E(X) = np, where n is the number of trials and p is the probability of success.\n",
    "    Variance: Var(X) = np(1-p).\n",
    "    Relationship: Var(X) = (1-p) * E(X). This means the variance is always smaller than the mean, and their difference increases as p approaches 0 or 1 (extreme success or failure probabilities).\n",
    "    \n",
    "    \"oisson Distribution:\n",
    "    Mean: E(X) = λ, where λ is the average number of successes in a given interval.\n",
    "    Variance: Var(X) = λ.\n",
    "    Relationship: Var(X) = E(X). This means the mean and variance are always equal.\n",
    "    \n",
    "    Key Differences:\n",
    "    Binomial: Fixed trials, two outcomes, variance depends on both mean and success probability.\n",
    "    Poisson: No fixed trials, count outcomes, variance always equals the mean.\n"
   ]
  },
  {
   "cell_type": "code",
   "execution_count": null,
   "id": "023d0689-1888-419c-925f-d2b9ca6b771b",
   "metadata": {},
   "outputs": [],
   "source": [
    "# Q10. In normal distribution with respect to mean position, where does the least frequent data appear?\\n\",\n",
    "    '''\n",
    "    In a normal distribution, the least frequent data appear furthest away from the mean, in both tails of the bell-shaped curve.\n",
    "    This is because the normal distribution follows a specific probability density function,where the probability of observing a value decreases as it gets further away from the mean\n",
    "    \n",
    "    1. Symmetry and Bell Shape:\n",
    "    -->A normal distribution is symmetrical around its mean, meaning the left and right sides of the curve are mirror images.\n",
    "    -->It also has a bell shape, where the highest point of the curve is at the mean, and the curve gradually tapers off towards both tails.\n",
    "    \n",
    "    2. Probability Density Function (PDF):\n",
    "    The normal distribution is characterized by its PDF, which represents the probability of any given value occurring.\n",
    "    As you move away from the mean, the PDF value decreases exponentially. This means that values further away from the mean are progressively less likely to occur.'''\n"
   ]
  }
 ],
 "metadata": {
  "kernelspec": {
   "display_name": "Python 3 (ipykernel)",
   "language": "python",
   "name": "python3"
  },
  "language_info": {
   "codemirror_mode": {
    "name": "ipython",
    "version": 3
   },
   "file_extension": ".py",
   "mimetype": "text/x-python",
   "name": "python",
   "nbconvert_exporter": "python",
   "pygments_lexer": "ipython3",
   "version": "3.10.8"
  }
 },
 "nbformat": 4,
 "nbformat_minor": 5
}
